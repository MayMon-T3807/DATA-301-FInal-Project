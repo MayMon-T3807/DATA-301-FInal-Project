{
 "cells": [
  {
   "cell_type": "code",
   "execution_count": null,
   "id": "de3bf6aa",
   "metadata": {},
   "outputs": [],
   "source": [
    "class Movie:\n",
    "    def __init__(self, movie_id, title, genres):\n",
    "        self.movie_id = movie_id\n",
    "        self.title = title\n",
    "        self.genres = set(genres)\n",
    "\n",
    "    def __repr__(self):\n",
    "        return f\"Movie(ID={self.movie_id}, Title='{self.title}')\""
   ]
  },
  {
   "cell_type": "code",
   "execution_count": 32,
   "id": "5b305c1b",
   "metadata": {},
   "outputs": [],
   "source": [
    "class MovieGraph:\n",
    "    def __init__(self):\n",
    "        self.movies = {}  # movie_id -> Movie\n",
    "        self.adj_list = {}  # movie_id -> {neighbor_id: similarity_score}\n",
    "\n",
    "    # Normalization titles\n",
    "    def _normalize(self, title):\n",
    "        return title.strip().lower()\n",
    "\n",
    "    # Create\n",
    "    def add_movie(self, movie):\n",
    "        key = self._normalize(movie.title)\n",
    "        self.movies[key] = movie\n",
    "        self.adj_list[key] = {}\n",
    "\n",
    "    def add_similarity(self, id1, id2, score):\n",
    "        if id1 not in self.movies or id2 not in self.movies:\n",
    "            print(\"Both movies must exist to add similarity.\")\n",
    "            return\n",
    "        self.adj_list[id1][id2] = score\n",
    "        self.adj_list[id2][id1] = score  # Undirected graph\n",
    "\n",
    "    # Read\n",
    "    def get_movie(self, title):\n",
    "        return self.movies.get(self._normalize(title))\n",
    "\n",
    "    def get_similar_movies(self, movie_id):\n",
    "        neighbors = self.adj_list.get(movie_id, {})\n",
    "        return sorted(neighbors.items(), key=lambda x: x[1], reverse=True)\n",
    "\n",
    "    # Update\n",
    "    def update_movie(self, movie_id, title=None, genres=None):\n",
    "        if movie_id not in self.movies:\n",
    "            print(f\"No movie found with ID {movie_id}\")\n",
    "            return\n",
    "        movie = self.movies[movie_id]\n",
    "        if title:\n",
    "            movie.title = title\n",
    "        if genres:\n",
    "            movie.genres = set(genres)\n",
    "\n",
    "    def update_similarity(self, id1, id2, new_score):\n",
    "        if id1 in self.adj_list and id2 in self.adj_list[id1]:\n",
    "            self.adj_list[id1][id2] = new_score\n",
    "            self.adj_list[id2][id1] = new_score\n",
    "        else:\n",
    "            print(\"Similarity link doesn't exist.\")\n",
    "\n",
    "    # Delete\n",
    "    def delete_movie(self, movie_id):\n",
    "        if movie_id in self.movies:\n",
    "            del self.movies[movie_id]\n",
    "            del self.adj_list[movie_id]\n",
    "            for neighbors in self.adj_list.values():\n",
    "                neighbors.pop(movie_id, None)\n",
    "        else:\n",
    "            print(f\"No movie found with ID {movie_id}\")\n",
    "\n",
    "    def delete_similarity(self, id1, id2):\n",
    "        self.adj_list.get(id1, {}).pop(id2, None)\n",
    "        self.adj_list.get(id2, {}).pop(id1, None)\n",
    "\n"
   ]
  },
  {
   "cell_type": "code",
   "execution_count": 6,
   "id": "bb2f5e8d",
   "metadata": {},
   "outputs": [
    {
     "name": "stdout",
     "output_type": "stream",
     "text": [
      "[(2, 0.9), (3, 0.8)]\n"
     ]
    }
   ],
   "source": [
    "m1 = Movie(1, \"Inception\", [\"Sci-Fi\", \"Thriller\"])\n",
    "m2 = Movie(2, \"Interstellar\", [\"Sci-Fi\", \"Drama\"])\n",
    "m3 = Movie(3, \"The Matrix\", [\"Sci-Fi\", \"Action\"])\n",
    "\n",
    "graph = MovieGraph()\n",
    "graph.add_movie(m1)\n",
    "graph.add_movie(m2)\n",
    "graph.add_movie(m3)\n",
    "\n",
    "graph.add_similarity(1, 2, 0.9)\n",
    "graph.add_similarity(1, 3, 0.8)\n",
    "\n",
    "print(graph.get_similar_movies(1))\n"
   ]
  },
  {
   "cell_type": "code",
   "execution_count": 34,
   "id": "f1304643",
   "metadata": {},
   "outputs": [],
   "source": [
    "import pandas as pd\n",
    "from itertools import combinations\n",
    "\n",
    "df = pd.read_csv(\"imdb_top_1000_cleaned.csv\")\n",
    "\n",
    "# Preprocess genres into lists\n",
    "def get_genres(row):\n",
    "    return list(set([row['genre_1'], row['genre_2'], row['genre_3']]))\n",
    "\n",
    "# Create Movie objects from DataFrame\n",
    "graph = MovieGraph()\n",
    "\n",
    "for idx, row in df.iterrows():\n",
    "    movie_id = idx\n",
    "    title = row['Series_Title']\n",
    "    genres = get_genres(row)\n",
    "    movie = Movie(movie_id, title, genres)\n",
    "    graph.add_movie(movie)\n"
   ]
  },
  {
   "cell_type": "code",
   "execution_count": 35,
   "id": "1ded55c0",
   "metadata": {},
   "outputs": [],
   "source": [
    "def jaccard_similarity(set1, set2):\n",
    "    intersection = set1.intersection(set2)\n",
    "    union = set1.union(set2)\n",
    "    return len(intersection) / len(union) if union else 0\n",
    "\n",
    "movie_ids = list(graph.movies.keys())\n",
    "\n",
    "for i in range(len(movie_ids)):\n",
    "    for j in range(i + 1, len(movie_ids)):\n",
    "        id1 = movie_ids[i]\n",
    "        id2 = movie_ids[j]\n",
    "\n",
    "        genres1 = graph.movies[id1].genres\n",
    "        genres2 = graph.movies[id2].genres\n",
    "\n",
    "        sim = jaccard_similarity(genres1, genres2)\n",
    "\n",
    "        if sim > 0.3:\n",
    "            graph.add_similarity(id1, id2, sim)\n"
   ]
  },
  {
   "cell_type": "code",
   "execution_count": 46,
   "id": "58828f8f",
   "metadata": {},
   "outputs": [
    {
     "name": "stdout",
     "output_type": "stream",
     "text": [
      "Recommendations for: Movie(Batman Begins)\n",
      "  Movie(The Dark Knight Rises) with similarity 1.00\n",
      "  Movie(Raiders of the Lost Ark) with similarity 1.00\n",
      "  Movie(Indiana Jones and the Last Crusade) with similarity 1.00\n",
      "  Movie(First Blood) with similarity 1.00\n",
      "  Movie(The Lord of the Rings: The Return of the King) with similarity 0.50\n",
      "  Movie(Inception) with similarity 0.50\n",
      "  Movie(The Lord of the Rings: The Fellowship of the Ring) with similarity 0.50\n",
      "  Movie(The Lord of the Rings: The Two Towers) with similarity 0.50\n",
      "  Movie(The Matrix) with similarity 0.50\n",
      "  Movie(Star Wars: Episode V - The Empire Strikes Back) with similarity 0.50\n"
     ]
    }
   ],
   "source": [
    "title = \"batman begins\"\n",
    "movie = graph.get_movie(title)\n",
    "\n",
    "if movie:\n",
    "    print(f\"Recommendations for: {movie}\")\n",
    "    for similar_title, score in graph.get_similar_movies(title)[:10]:\n",
    "        print(f\"  {graph.get_movie(similar_title)} with similarity {score:.2f}\")\n",
    "else:\n",
    "    print(f\"Movie '{title}' not found in the graph.\")\n"
   ]
  }
 ],
 "metadata": {
  "kernelspec": {
   "display_name": "ML",
   "language": "python",
   "name": "python3"
  },
  "language_info": {
   "codemirror_mode": {
    "name": "ipython",
    "version": 3
   },
   "file_extension": ".py",
   "mimetype": "text/x-python",
   "name": "python",
   "nbconvert_exporter": "python",
   "pygments_lexer": "ipython3",
   "version": "3.13.2"
  }
 },
 "nbformat": 4,
 "nbformat_minor": 5
}
